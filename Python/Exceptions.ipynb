{
 "cells": [
  {
   "cell_type": "code",
   "execution_count": 1,
   "id": "037786fd",
   "metadata": {},
   "outputs": [
    {
     "name": "stdout",
     "output_type": "stream",
     "text": [
      "name 'b' is not defined\n"
     ]
    }
   ],
   "source": [
    "try:\n",
    "    a=b\n",
    "except NameError as ex:\n",
    "    print(ex)\n",
    "    "
   ]
  },
  {
   "cell_type": "code",
   "execution_count": 4,
   "id": "609cd9db",
   "metadata": {},
   "outputs": [
    {
     "name": "stdout",
     "output_type": "stream",
     "text": [
      "name 'b' is not defined\n",
      "Main Exception caught\n"
     ]
    }
   ],
   "source": [
    "try:\n",
    "    result = 1/2\n",
    "    a=b \n",
    "except ZeroDivisionError as ex:\n",
    "    print(ex)\n",
    "except Exception as ex1:\n",
    "    print(ex1)\n",
    "    print(\"Main Exception caught\")"
   ]
  },
  {
   "cell_type": "code",
   "execution_count": null,
   "id": "636691bb",
   "metadata": {},
   "outputs": [
    {
     "name": "stdout",
     "output_type": "stream",
     "text": [
      " the result is 1.0\n"
     ]
    }
   ],
   "source": [
    "# Along with try, except also else block\n",
    "\n",
    "try:\n",
    "    num = int(input(\"Enter a number\"))\n",
    "    result = 10/num \n",
    "\n",
    "except ValueError:\n",
    "    print(\"Please enter a num\")\n",
    "\n",
    "except ZeroDivisionError:\n",
    "    print(\"Enter a number greater than zero\")\n",
    "\n",
    "else: # will only exc if there is no exception found i.e if the try block succesuflly runs \n",
    "    print(f' the result is {result}')"
   ]
  },
  {
   "cell_type": "code",
   "execution_count": 8,
   "id": "73beb43d",
   "metadata": {},
   "outputs": [
    {
     "name": "stdout",
     "output_type": "stream",
     "text": [
      "Enter a number greater than zero\n",
      "Exectution completed\n"
     ]
    }
   ],
   "source": [
    "# Along with try, except also else, finally \n",
    "\n",
    "try:\n",
    "    num = int(input(\"Enter a number\"))\n",
    "    result = 10/num \n",
    "\n",
    "except ValueError:\n",
    "    print(\"Please enter a num\")\n",
    "\n",
    "except ZeroDivisionError:\n",
    "    print(\"Enter a number greater than zero\")\n",
    "except Exception:\n",
    "    print(\"Main Exception caught\")\n",
    "else: # \n",
    "    print(f' the result is {result}')\n",
    "\n",
    "finally:\n",
    "    print(\"Exectution completed\")\n"
   ]
  },
  {
   "cell_type": "code",
   "execution_count": null,
   "id": "68d86379",
   "metadata": {},
   "outputs": [
    {
     "name": "stdout",
     "output_type": "stream",
     "text": [
      "No file found\n"
     ]
    }
   ],
   "source": [
    "## File handiling and Exception Handling \n",
    "\n",
    "try: \n",
    "    file = open('example1.txt')\n",
    "    content = file.read()\n",
    "    print(content)\n",
    "except FileNotFoundError:\n",
    "    print(\"No file found\")\n",
    "\n",
    "finally:\n",
    "    if 'file' in locals() and not file.close():\n",
    "        file.close()\n",
    "        print(\"File CLosed\")"
   ]
  },
  {
   "cell_type": "code",
   "execution_count": 11,
   "id": "4030574c",
   "metadata": {},
   "outputs": [
    {
     "name": "stdout",
     "output_type": "stream",
     "text": [
      "Silent rivers carry hidden secrets.\n",
      "Blue mountains whisper gentle dreams.\n",
      "Golden sunlight warms quiet fields.\n",
      "name 'b' is not defined\n",
      "File CLosed\n"
     ]
    }
   ],
   "source": [
    "try: \n",
    "    file = open('example.txt')\n",
    "    content = file.read()\n",
    "    print(content)\n",
    "    a = b\n",
    "except FileNotFoundError:\n",
    "    print(\"No file found\")\n",
    "\n",
    "except Exception as ex:\n",
    "    print(ex)\n",
    "\n",
    "finally:\n",
    "    if 'file' in locals() and not file.close():\n",
    "        file.close()\n",
    "        print(\"File CLosed\")"
   ]
  },
  {
   "cell_type": "code",
   "execution_count": null,
   "id": "c27fb83b",
   "metadata": {},
   "outputs": [],
   "source": []
  }
 ],
 "metadata": {
  "kernelspec": {
   "display_name": "notebook-env",
   "language": "python",
   "name": "python3"
  },
  "language_info": {
   "codemirror_mode": {
    "name": "ipython",
    "version": 3
   },
   "file_extension": ".py",
   "mimetype": "text/x-python",
   "name": "python",
   "nbconvert_exporter": "python",
   "pygments_lexer": "ipython3",
   "version": "3.12.0"
  }
 },
 "nbformat": 4,
 "nbformat_minor": 5
}
