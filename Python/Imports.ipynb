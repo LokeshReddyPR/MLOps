{
 "cells": [
  {
   "cell_type": "code",
   "execution_count": 6,
   "id": "c896b41f",
   "metadata": {},
   "outputs": [
    {
     "data": {
      "text/plain": [
       "-1"
      ]
     },
     "execution_count": 6,
     "metadata": {},
     "output_type": "execute_result"
    }
   ],
   "source": [
    "from packages.mat import *\n",
    "\n",
    "addtn(2,3)\n",
    "subtr(2,3)"
   ]
  },
  {
   "cell_type": "code",
   "execution_count": 7,
   "id": "6bb4d3e6",
   "metadata": {},
   "outputs": [
    {
     "data": {
      "text/plain": [
       "-1"
      ]
     },
     "execution_count": 7,
     "metadata": {},
     "output_type": "execute_result"
    }
   ],
   "source": [
    "from packages import mat\n",
    "\n",
    "mat.addtn(2,3)\n",
    "mat.subtr(2,3)"
   ]
  },
  {
   "cell_type": "code",
   "execution_count": null,
   "id": "4b95e0ab",
   "metadata": {},
   "outputs": [],
   "source": []
  }
 ],
 "metadata": {
  "kernelspec": {
   "display_name": "notebook-env",
   "language": "python",
   "name": "python3"
  },
  "language_info": {
   "codemirror_mode": {
    "name": "ipython",
    "version": 3
   },
   "file_extension": ".py",
   "mimetype": "text/x-python",
   "name": "python",
   "nbconvert_exporter": "python",
   "pygments_lexer": "ipython3",
   "version": "3.12.0"
  }
 },
 "nbformat": 4,
 "nbformat_minor": 5
}
