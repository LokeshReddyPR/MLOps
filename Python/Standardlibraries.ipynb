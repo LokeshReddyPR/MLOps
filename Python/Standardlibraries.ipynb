{
 "cells": [
  {
   "cell_type": "code",
   "execution_count": 1,
   "id": "83c90f7f",
   "metadata": {},
   "outputs": [
    {
     "name": "stdout",
     "output_type": "stream",
     "text": [
      "array('i', [1, 2, 3, 4])\n"
     ]
    }
   ],
   "source": [
    "import array \n",
    "arr= array.array('i',[1,2,3,4])\n",
    "print(arr)\n"
   ]
  },
  {
   "cell_type": "code",
   "execution_count": 2,
   "id": "9202dd92",
   "metadata": {},
   "outputs": [
    {
     "name": "stdout",
     "output_type": "stream",
     "text": [
      "/workspaces/MLOps/Python\n"
     ]
    }
   ],
   "source": [
    "## File and Directory access\n",
    "\n",
    "import os\n",
    "\n",
    "print(os.getcwd())"
   ]
  },
  {
   "cell_type": "code",
   "execution_count": 6,
   "id": "06aaaa39",
   "metadata": {},
   "outputs": [
    {
     "name": "stdout",
     "output_type": "stream",
     "text": [
      "{\"name\": \"Lok\", \"age\": 35}\n",
      "<class 'str'>\n",
      "{'name': 'Lok', 'age': 35}\n",
      "<class 'dict'>\n"
     ]
    }
   ],
   "source": [
    "## Data Serialization \n",
    "import json \n",
    "data = {'name': 'Lok', 'age': 35}\n",
    "json_str = json.dumps(data)\n",
    "print(json_str)\n",
    "print(type(json_str))\n",
    "\n",
    "parsed_data = json.loads(json_str)\n",
    "print(parsed_data)\n",
    "print(type(parsed_data))"
   ]
  },
  {
   "cell_type": "markdown",
   "id": "394a8498",
   "metadata": {},
   "source": [
    "## File Operations\n",
    "\n",
    "#### syntax:\n",
    "#### with open('filename','w/r/a/w+/wb/rb') as file:\n",
    "#### w - write , r -read, a- append (to add new lines to the file), \n",
    "#### w+ - both reading & writing (it will create the file if not present)\n",
    "#### wb - write byte into bin , rb- read bytes from the bin \n",
    "\n"
   ]
  },
  {
   "cell_type": "code",
   "execution_count": null,
   "id": "0aa10e4a",
   "metadata": {},
   "outputs": [],
   "source": []
  },
  {
   "cell_type": "code",
   "execution_count": null,
   "metadata": {},
   "outputs": [],
   "source": []
  },
  {
   "cell_type": "code",
   "execution_count": null,
   "id": "f5b44aa2",
   "metadata": {},
   "outputs": [
    {
     "name": "stdout",
     "output_type": "stream",
     "text": [
      "3 15 109\n"
     ]
    }
   ],
   "source": [
    "# read a txt file and count the number of line, words and char values\n",
    "\n",
    "\n",
    "with open('example.txt', 'r') as file:\n",
    "    lines = file.readlines()\n",
    "    line_count = len(lines)\n",
    "    word_count = sum(len(line.split()) for line in lines)\n",
    "    char_count = sum(len(line) for line in lines)\n",
    "\n",
    "print(line_count, word_count, char_count)\n",
    "\n",
    "\n",
    "        \n",
    "        "
   ]
  },
  {
   "cell_type": "code",
   "execution_count": null,
   "id": "56a9f775",
   "metadata": {},
   "outputs": [],
   "source": []
  }
 ],
 "metadata": {
  "kernelspec": {
   "display_name": "notebook-env",
   "language": "python",
   "name": "python3"
  },
  "language_info": {
   "codemirror_mode": {
    "name": "ipython",
    "version": 3
   },
   "file_extension": ".py",
   "mimetype": "text/x-python",
   "name": "python",
   "nbconvert_exporter": "python",
   "pygments_lexer": "ipython3",
   "version": "3.12.0"
  }
 },
 "nbformat": 4,
 "nbformat_minor": 5
}
